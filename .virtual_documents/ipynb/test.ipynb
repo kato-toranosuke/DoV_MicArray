import numpy as np


for i in range(0,10):
    print(i)


x = np.arange(0,10)


x


x[0::2]


y = [[]*6]


y[1]


z = [[] for i in range(6)]


z


z[1]


range(3)


class NoResampler():
    pass


nr = NoResampler()


nr.__class__.__name__


import pyaudio


p = pyaudio.PyAudio()


for index in range(0, p.get_device_count()):
    print(p.get_device_info_by_index(index))


host_api_count = p.get_host_api_count()
host_api_count


p.get_device_count()


p.get_host_api_info_by_index(0)



