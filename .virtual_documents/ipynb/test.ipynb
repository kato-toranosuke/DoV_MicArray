import numpy as np


for i in range(0,10):
    print(i)


x = np.arange(0,10)


x


x[0::2]



