import numpy as np


for i in range(0,10):
    print(i)


x = np.arange(0,10)


x


x[0::2]


y = [[]*6]


y[1]


z = [[] for i in range(6)]


z


z[1]


range(3)


class NoResampler():
    pass


nr = NoResampler()


nr.__class__.__name__



